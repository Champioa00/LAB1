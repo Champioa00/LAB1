{
  "nbformat": 4,
  "nbformat_minor": 0,
  "metadata": {
    "colab": {
      "name": "Untitled7.ipynb",
      "provenance": [],
      "authorship_tag": "ABX9TyP9Ic+S2OZuvLPXh/YH0g57",
      "include_colab_link": true
    },
    "kernelspec": {
      "name": "python3",
      "display_name": "Python 3"
    },
    "language_info": {
      "name": "python"
    }
  },
  "cells": [
    {
      "cell_type": "markdown",
      "metadata": {
        "id": "view-in-github",
        "colab_type": "text"
      },
      "source": [
        "<a href=\"https://colab.research.google.com/github/Champioa00/LAB1/blob/master/Week5async.ipynb\" target=\"_parent\"><img src=\"https://colab.research.google.com/assets/colab-badge.svg\" alt=\"Open In Colab\"/></a>"
      ]
    },
    {
      "cell_type": "markdown",
      "source": [
        "Anthonh Champion\n",
        "Week 5 async homework"
      ],
      "metadata": {
        "id": "NouZVFblsV45"
      }
    },
    {
      "cell_type": "code",
      "execution_count": 16,
      "metadata": {
        "colab": {
          "base_uri": "https://localhost:8080/"
        },
        "id": "uvq9RcNVJHI4",
        "outputId": "323394a4-58dd-4c5d-bd20-10f216ce39e7"
      },
      "outputs": [
        {
          "output_type": "stream",
          "name": "stdout",
          "text": [
            "[nltk_data] Downloading package punkt to /root/nltk_data...\n",
            "[nltk_data]   Unzipping tokenizers/punkt.zip.\n"
          ]
        },
        {
          "output_type": "execute_result",
          "data": {
            "text/plain": [
              "True"
            ]
          },
          "metadata": {},
          "execution_count": 16
        }
      ],
      "source": [
        "# Load the Needed Packages\n",
        "import os\n",
        "import nltk\n",
        "from nltk.corpus import stopwords\n",
        "from nltk.tokenize import word_tokenize\n",
        "from nltk.stem import WordNetLemmatizer\n",
        "from sklearn.feature_extraction.text import TfidfVectorizer\n",
        "import re \n",
        "import pandas as pd\n",
        "import numpy as np \n",
        "import matplotlib.pyplot as plt\n",
        "from PIL import Image\n",
        "from wordcloud import WordCloud, ImageColorGenerator\n",
        "import collections\n",
        "import nltk\n",
        "nltk.download('punkt')\n"
      ]
    },
    {
      "cell_type": "code",
      "source": [
        "## Load data ##\n",
        "corpus = pd.read_csv('https://raw.githubusercontent.com/Champioa00/LAB1/master/Week5718.csv')"
      ],
      "metadata": {
        "id": "-b32s2ymJWor"
      },
      "execution_count": 34,
      "outputs": []
    },
    {
      "cell_type": "code",
      "source": [
        "# Just look at the first line of the data frame. \n",
        "corpus.iloc[0]"
      ],
      "metadata": {
        "colab": {
          "base_uri": "https://localhost:8080/"
        },
        "id": "Sd8Ior1eJ4z5",
        "outputId": "ed4dd149-d3f1-46b7-dd09-451f8a7a6f0d"
      },
      "execution_count": 45,
      "outputs": [
        {
          "output_type": "execute_result",
          "data": {
            "text/plain": [
              "Palyer                                               Player A\n",
              "Write_up    A dual-threat quarterback with two years of st...\n",
              "Name: 0, dtype: object"
            ]
          },
          "metadata": {},
          "execution_count": 45
        }
      ]
    },
    {
      "cell_type": "code",
      "source": [
        "print(corpus)"
      ],
      "metadata": {
        "colab": {
          "base_uri": "https://localhost:8080/"
        },
        "id": "WN4v74e0h4Xi",
        "outputId": "ad895583-224e-4aaa-87d9-110b6c12588e"
      },
      "execution_count": 46,
      "outputs": [
        {
          "output_type": "stream",
          "name": "stdout",
          "text": [
            "     Palyer                                           Write_up\n",
            "0  Player A  A dual-threat quarterback with two years of st...\n",
            "1  Player B  Pickett is an accurate passer with nice size. ...\n",
            "2  Player C  Aidan Hutchinson has excellent potential, but ...\n",
            "3  Player D  David Ojabo needs to get stronger for the NFL,...\n",
            "4  Player E  Evan Neal is a 360-pound lineman who can move ...\n",
            "5  Player F  Malik Willis has a huge arm and great mobility...\n",
            "6  Player G  The Giants have an excellent secondary, but th...\n",
            "7  Player H  Sam Howell threw for 38 touchdowns in 2019, wh...\n",
            "8  Player I  Jordan Davis was a monster in the 2021 season ...\n",
            "9  Player J  Derek Stingley had a freshman campaign for the...\n"
          ]
        }
      ]
    },
    {
      "cell_type": "code",
      "source": [
        "# Remove special characters, lower-case all words, remove stop words, stem, and lemmatize\n",
        "\n",
        "clean_text = []\n",
        "\n",
        "for i in corpus.Write_up: \n",
        "    clean = [re.sub('[\\W\\_]', ' ', w) for w in i.split('\\n')]\n",
        "    lower = [y.lower() for y in clean]\n",
        "    clean_text.append(lower)\n",
        "\n"
      ],
      "metadata": {
        "id": "NNOTbsdeh-s9"
      },
      "execution_count": 37,
      "outputs": []
    },
    {
      "cell_type": "code",
      "source": [
        "# Check to see if it works \n",
        "print(clean_text[0])"
      ],
      "metadata": {
        "colab": {
          "base_uri": "https://localhost:8080/"
        },
        "id": "Unarz1uciLDN",
        "outputId": "c168e62e-21cd-44cb-ed6e-d9d29013389d"
      },
      "execution_count": 38,
      "outputs": [
        {
          "output_type": "stream",
          "name": "stdout",
          "text": [
            "['a dual threat quarterback with two years of starting experience at the college level  willis is a dynamic playmaker with both his arm and legs  at 6 1   he won t be the tallest quarterback in the class  but the nfl shouldn t hold that against him  at 215 pounds  he has an excellent build to hold up to the elevated physical rigors at the next level  that allows willis to play the game with impressive toughness  that presents itself in multiple ways  he can hang tough in the pocket and take a hit  furthermore  willis demonstrates grit as a ball carrier when escaping the pocket  he is challenging to take down in the open field due to his toughness and athletic ability  willis possesses exceptional athletic qualities  the liberty qb is fast  owns an excellent short area burst  and his change of direction is phenomenal  this allows him to be an entertaining  electric  and effective dual threat quarterback  willis is elusive both in and out of the pocket  shows stellar vision as a runner  and is brilliantly creative  he s comfortably the most dangerous quarterback in terms of mobility in this 2022 nfl draft class  willis also possesses the most impressive arm in this draft class  where most people have an arm  the liberty quarterback has a laser guided missile launcher  a cannon  insert your own metaphor here  he s capable of launching the ball downfield with relative ease  routinely making throws that leave you flabbergasted  however  arm talent is more than simply being able to heave the ball 60  yards  here  willis exudes elite capability  he creates impressive velocity with minimal effort  need a 30 plus yard strike into a tight window  willis is your man  he puts excellent zip on the ball and can throw from multiple arm angles  the liberty qb combines his excellent athleticism with the ability to throw a beautiful ball on the run  making him extremely dangerous out of the pocket  in addition to his physical tools  willis is an on field leader who attempts to elevate those around him  off field  he composes himself well in interview situations and appears to possess high character  his combination of arm talent  elite athleticism  and leadership should make him an alluring prospect in a murky quarterback class  although the areas for improvement we re about to talk about might limit his bid to be the qb1 of the class  it wouldn t be a surprise to find a team fall in love with him at the senior bowl and take a leap of faith  for success at the next level  environment will be everything  if willis lands with a team that accentuates his upside while showing patience to develop him  he can eventually be an excellent playmaker in the nfl  strong arm  great legs   can t lose  right  well  not quite  as entertaining and talented as willis is  he presents a difficult nfl draft evaluation for a number of reasons  his scouting report reveals several areas for development  and in some areas  he appeared to regress rather than develop during the 2021 college football season   like multiple quarterbacks in the 2022 nfl draft class  willis is a work in progress from a decision making standpoint  he needs to learn when to take the easy option as a passer  he s guilty of frequently trying to take the difficult option  maybe as a result of arm arrogance  he ll try and thread the ball into receivers when they genuinely aren t open  it s an issue compounded by an inability to quickly scan the field  this decision making development also extends to pocket management  while it s worth pointing out that the liberty offensive line was dreadful this season  willis is prone to flee a clean pocket to make a play with his legs rather than work through passing options  he needs to be mindful of stepping up in the pocket rather than working backward in it where he puts himself at risk of giving up significant yardage at the next level  another area of regression this season was with accuracy  again  the statistical element of accuracy analysis is hindered by an uninspiring wr group  however  film study shows that willis is guilty of being high and wide more regularly than you d like to see from a leading prospect  the liberty qb needs to improve his accuracy even on simpler  shorter throws ']\n"
          ]
        }
      ]
    },
    {
      "cell_type": "code",
      "source": [
        "# Initiate English stop words\n",
        "stop = stopwords.words('english')\n",
        "\n",
        "# New list to house tokenized sentences and removed stopwords. \n",
        "rmv_stop_words = []\n",
        "\n",
        "for i in clean_text: \n",
        "    i = str(i)\n",
        "    i = re.sub(r\"[^\\w]\", ' ', i)\n",
        "    word_tokens = word_tokenize(i)\n",
        "    no_stop_words = ' '.join([x for x in word_tokens if x not in stop])\n",
        "    rmv_stop_words.append(no_stop_words)\n",
        "    \n",
        "# Print first sentence to compare with previous complete sentence. \n",
        "print(rmv_stop_words[0])"
      ],
      "metadata": {
        "colab": {
          "base_uri": "https://localhost:8080/"
        },
        "id": "aJw3pRt8ii2P",
        "outputId": "fc258c94-2e64-4f65-82f5-37fa86483ec6"
      },
      "execution_count": 39,
      "outputs": [
        {
          "output_type": "stream",
          "name": "stdout",
          "text": [
            "dual threat quarterback two years starting experience college level willis dynamic playmaker arm legs 6 1 tallest quarterback class nfl hold 215 pounds excellent build hold elevated physical rigors next level allows willis play game impressive toughness presents multiple ways hang tough pocket take hit furthermore willis demonstrates grit ball carrier escaping pocket challenging take open field due toughness athletic ability willis possesses exceptional athletic qualities liberty qb fast owns excellent short area burst change direction phenomenal allows entertaining electric effective dual threat quarterback willis elusive pocket shows stellar vision runner brilliantly creative comfortably dangerous quarterback terms mobility 2022 nfl draft class willis also possesses impressive arm draft class people arm liberty quarterback laser guided missile launcher cannon insert metaphor capable launching ball downfield relative ease routinely making throws leave flabbergasted however arm talent simply able heave ball 60 yards willis exudes elite capability creates impressive velocity minimal effort need 30 plus yard strike tight window willis man puts excellent zip ball throw multiple arm angles liberty qb combines excellent athleticism ability throw beautiful ball run making extremely dangerous pocket addition physical tools willis field leader attempts elevate around field composes well interview situations appears possess high character combination arm talent elite athleticism leadership make alluring prospect murky quarterback class although areas improvement talk might limit bid qb1 class surprise find team fall love senior bowl take leap faith success next level environment everything willis lands team accentuates upside showing patience develop eventually excellent playmaker nfl strong arm great legs lose right well quite entertaining talented willis presents difficult nfl draft evaluation number reasons scouting report reveals several areas development areas appeared regress rather develop 2021 college football season like multiple quarterbacks 2022 nfl draft class willis work progress decision making standpoint needs learn take easy option passer guilty frequently trying take difficult option maybe result arm arrogance try thread ball receivers genuinely open issue compounded inability quickly scan field decision making development also extends pocket management worth pointing liberty offensive line dreadful season willis prone flee clean pocket make play legs rather work passing options needs mindful stepping pocket rather working backward puts risk giving significant yardage next level another area regression season accuracy statistical element accuracy analysis hindered uninspiring wr group however film study shows willis guilty high wide regularly like see leading prospect liberty qb needs improve accuracy even simpler shorter throws\n"
          ]
        }
      ]
    },
    {
      "cell_type": "code",
      "source": [
        "# List to append tokenized strings\n",
        "tokens = []\n",
        "\n",
        "# Tokenize stirngs with removed stop words\n",
        "for i in rmv_stop_words:\n",
        "    token = word_tokenize(i)\n",
        "    tokens.append(token)\n",
        "\n",
        "# Concatenate with original data frame\n",
        "token_df = pd.DataFrame(np.array(tokens).reshape(-1, 1))\n",
        "corpus_df = pd.concat((corpus, token_df), axis=1, ignore_index=True)\n",
        "corpus_df.columns = ['Palyer', 'Write_up', 'token_report']"
      ],
      "metadata": {
        "colab": {
          "base_uri": "https://localhost:8080/"
        },
        "id": "aevaMwGKkQpl",
        "outputId": "6e6b4391-8027-4f70-b3a5-5aeb6daad3db"
      },
      "execution_count": 40,
      "outputs": [
        {
          "output_type": "stream",
          "name": "stderr",
          "text": [
            "/usr/local/lib/python3.7/dist-packages/ipykernel_launcher.py:10: VisibleDeprecationWarning: Creating an ndarray from ragged nested sequences (which is a list-or-tuple of lists-or-tuples-or ndarrays with different lengths or shapes) is deprecated. If you meant to do this, you must specify 'dtype=object' when creating the ndarray\n",
            "  # Remove the CWD from sys.path while we load stuff.\n"
          ]
        }
      ]
    },
    {
      "cell_type": "code",
      "source": [
        "# build a dictionary and create a word cloud. \n",
        "Player_A = corpus_df.iloc[0, 2]\n",
        "\n",
        "wordcount = {}\n",
        "\n",
        "# Iterate over the word corpus to remove special characters  \n",
        "for word in Player_A:\n",
        "    if word not in wordcount:\n",
        "        wordcount[word] = 1\n",
        "    else:\n",
        "        wordcount[word] += 1\n",
        "\n",
        "# Print the 20 most common words. \n",
        "n_print = 20            \n",
        "word_counter = collections.Counter(wordcount)\n",
        "for word, count in word_counter.most_common(n_print):\n",
        "    print(word, \": %d\" % count)\n",
        "\n",
        "# Create a data frame of the most common words \n",
        "# Draw a bar chart\n",
        "lst = word_counter.most_common(n_print)\n",
        "df = pd.DataFrame(lst, columns = ['Word', 'Count'])\n",
        "df.plot.bar(x='Word',y='Count')"
      ],
      "metadata": {
        "colab": {
          "base_uri": "https://localhost:8080/",
          "height": 695
        },
        "id": "k5JrLYH8kqbW",
        "outputId": "15fccc37-f4e1-4080-e8e1-98176bab94c3"
      },
      "execution_count": 41,
      "outputs": [
        {
          "output_type": "stream",
          "name": "stdout",
          "text": [
            "willis : 14\n",
            "arm : 8\n",
            "pocket : 7\n",
            "quarterback : 6\n",
            "class : 6\n",
            "ball : 6\n",
            "nfl : 5\n",
            "excellent : 5\n",
            "take : 5\n",
            "liberty : 5\n",
            "level : 4\n",
            "field : 4\n",
            "draft : 4\n",
            "making : 4\n",
            "legs : 3\n",
            "next : 3\n",
            "impressive : 3\n",
            "multiple : 3\n",
            "qb : 3\n",
            "areas : 3\n"
          ]
        },
        {
          "output_type": "execute_result",
          "data": {
            "text/plain": [
              "<matplotlib.axes._subplots.AxesSubplot at 0x7f0de7cea3d0>"
            ]
          },
          "metadata": {},
          "execution_count": 41
        },
        {
          "output_type": "display_data",
          "data": {
            "image/png": "[encoded data removed]",
            "text/plain": [
              "<Figure size 432x288 with 1 Axes>"
            ]
          },
          "metadata": {
            "needs_background": "light"
          }
        }
      ]
    },
    {
      "cell_type": "code",
      "source": [
        "# Import sentiment intensity analyzer\n",
        "from nltk.sentiment.vader import SentimentIntensityAnalyzer as SIA\n",
        "nltk.download('vader_lexicon')\n",
        "\n",
        "# Initiate sentiment intesity analyzer and create an array to store results\n",
        "sia = SIA()\n",
        "results = []\n",
        "\n",
        "# Analyze line-by-line sentiment for top ten prospects, and print sentiment for first prospect\n",
        "for line in corpus_df.Write_up:\n",
        "    pol_score = sia.polarity_scores(line)\n",
        "    pol_score['Write_up'] = line\n",
        "    results.append(pol_score)\n",
        "\n",
        "print(results[:1])"
      ],
      "metadata": {
        "colab": {
          "base_uri": "https://localhost:8080/"
        },
        "id": "xTvNjVGdlT06",
        "outputId": "30af87b3-7939-42e2-a94e-fd78575ba6bf"
      },
      "execution_count": 42,
      "outputs": [
        {
          "output_type": "stream",
          "name": "stdout",
          "text": [
            "[nltk_data] Downloading package vader_lexicon to /root/nltk_data...\n",
            "[nltk_data]   Package vader_lexicon is already up-to-date!\n",
            "[{'neg': 0.055, 'neu': 0.707, 'pos': 0.237, 'compound': 0.9995, 'Write_up': 'A dual-threat quarterback with two years of starting experience at the college level, Willis is a dynamic playmaker with both his arm and legs. At 6’1″, he won’t be the tallest quarterback in the class, but the NFL shouldn’t hold that against him. At 215 pounds, he has an excellent build to hold up to the elevated physical rigors at the next level. That allows Willis to play the game with impressive toughness. That presents itself in multiple ways. He can hang tough in the pocket and take a hit. Furthermore, Willis demonstrates grit as a ball carrier when escaping the pocket. He is challenging to take down in the open field due to his toughness and athletic ability. Willis possesses exceptional athletic qualities. The Liberty QB is fast, owns an excellent short-area burst, and his change of direction is phenomenal. This allows him to be an entertaining, electric, and effective dual-threat quarterback. Willis is elusive both in and out of the pocket, shows stellar vision as a runner, and is brilliantly creative. He’s comfortably the most dangerous quarterback in terms of mobility in this 2022 NFL Draft class. Willis also possesses the most impressive arm in this draft class. Where most people have an arm, the Liberty quarterback has a laser-guided missile launcher, a cannon, insert your own metaphor here. He’s capable of launching the ball downfield with relative ease, routinely making throws that leave you flabbergasted. However, arm talent is more than simply being able to heave the ball 60+ yards. Here, Willis exudes elite capability. He creates impressive velocity with minimal effort. Need a 30-plus-yard strike into a tight window? Willis is your man. He puts excellent zip on the ball and can throw from multiple arm angles. The Liberty QB combines his excellent athleticism with the ability to throw a beautiful ball on the run, making him extremely dangerous out of the pocket. In addition to his physical tools, Willis is an on-field leader who attempts to elevate those around him. Off-field, he composes himself well in interview situations and appears to possess high character. His combination of arm talent, elite athleticism, and leadership should make him an alluring prospect in a murky quarterback class. Although the areas for improvement we’re about to talk about might limit his bid to be the QB1 of the class, it wouldn’t be a surprise to find a team fall in love with him at the Senior Bowl and take a leap of faith. For success at the next level, environment will be everything. If Willis lands with a team that accentuates his upside while showing patience to develop him, he can eventually be an excellent playmaker in the NFL. Strong arm, great legs — can’t lose, right? Well, not quite. As entertaining and talented as Willis is, he presents a difficult NFL Draft evaluation for a number of reasons. His scouting report reveals several areas for development, and in some areas, he appeared to regress rather than develop during the 2021 college football season.  Like multiple quarterbacks in the 2022 NFL Draft class, Willis is a work in progress from a decision-making standpoint. He needs to learn when to take the easy option as a passer. He’s guilty of frequently trying to take the difficult option, maybe as a result of arm-arrogance. He’ll try and thread the ball into receivers when they genuinely aren’t open. It’s an issue compounded by an inability to quickly scan the field. This decision-making development also extends to pocket management. While it’s worth pointing out that the Liberty offensive line was dreadful this season, Willis is prone to flee a clean pocket to make a play with his legs rather than work through passing options. He needs to be mindful of stepping up in the pocket rather than working backward in it where he puts himself at risk of giving up significant yardage at the next level. Another area of regression this season was with accuracy. Again, the statistical element of accuracy analysis is hindered by an uninspiring WR group. However, film study shows that Willis is guilty of being high and wide more regularly than you’d like to see from a leading prospect. The Liberty QB needs to improve his accuracy even on simpler, shorter throws.'}]\n"
          ]
        }
      ]
    }
  ]
}